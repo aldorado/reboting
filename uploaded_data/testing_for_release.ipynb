{
 "cells": [
  {
   "cell_type": "code",
   "execution_count": 2,
   "metadata": {},
   "outputs": [
    {
     "name": "stdout",
     "output_type": "stream",
     "text": [
      "userid: 10213970072671093\n",
      "url: http://data.opendataportal.at/dataset/462f0720-581a-4a20-8dfc-e1be4d0081d1/resource/14965582-e4ed-494e-b863-7c347cd1f587/download/dualesoesterreichcities.csv\n",
      "it doesntexists\n",
      "downloading file\n",
      "ERROR: something went wrong when downloading the file\n",
      "http://data.opendataportal.at/dataset/462f0720-581a-4a20-8dfc-e1be4d0081d1/resource/14965582-e4ed-494e-b863-7c347cd1f587/download/dualesoesterreichcities.csv\n"
     ]
    }
   ],
   "source": [
    "import IPython\n",
    "import reboting\n",
    "from reboting import CouldntSaveDataException\n",
    "from reboting import CsvDownloadAndParsingException\n",
    "from reboting import CouldNotDownloadFileException\n",
    "from reboting import CouldntCreateVisualException\n",
    "iframe='<div></div>'\n",
    "#can generate maps lau2_code -> oberoesterreich\n",
    "url='http://data.ooe.gv.at/files/cms/Mediendateien/OGD/ogd_abtStat/OOE_Bev_Geschl_Alt5J.csv'\n",
    "url='http://data.ooe.gv.at/files/cms/Mediendateien/OGD/ogd_abtStat/OOE_Bev_Erwerbsstatus.csv'\n",
    "url='http://service.stmk.gv.at/ogd/OGD_Data_ABT17/statistik/BEV_GESCHL/STMK_01012016_SEX.csv'\n",
    "url='http://data.linz.gv.at/katalog/population/wanderung/zuzug/2009/zuzug_2009u.csv'\n",
    "#problematische urls zum testen\n",
    "url='http://gis.ktn.gv.at/OGD/Geographie_Planung/ortsverzeichnis2014.csv'\n",
    "url='http://data.opendataportal.at/dataset/462f0720-581a-4a20-8dfc-e1be4d0081d1/resource/14965582-e4ed-494e-b863-7c347cd1f587/download/dualesoesterreichcities.csv'\n",
    "name='bla'\n",
    "publisher='bla'\n",
    "portal='bla'\n",
    "user_id='10213970072671093'\n",
    "description='bla'\n",
    "if url == 'NOTDEFINED':\n",
    "    print(\"Wu Dataservice not reachable atm - Sorry\")\n",
    "else:\n",
    "    print(\"userid: \"+user_id)\n",
    "    print(\"url: \"+url)\n",
    "    data_desc = {\n",
    "        \"name\" : name,\n",
    "        \"description\" : description,\n",
    "        \"publisher\" : publisher,\n",
    "        \"portal\" : portal,\n",
    "        \"url\": url,\n",
    "        \"user_id\" : user_id\n",
    "    }\n",
    "    try:\n",
    "        slug = reboting.checkforknowncsv(data_desc = data_desc)\n",
    "        url = 'https://doh.23degrees.io/viz/'+slug\n",
    "        iframe= '<iframe src=\"' + url + '\" allowfullscreen frameborder=\"0\" ></iframe>'\n",
    "    except CouldntSaveDataException as e:\n",
    "        print(\"ERROR: couldnt save data on 23 degree server\")\n",
    "    except CsvDownloadAndParsingException as e:\n",
    "        print(\"ERROR: something went wrong when downloading the file\")\n",
    "    except CouldNotDownloadFileException as e:\n",
    "        print(\"ERROR: couldnt download file\")\n",
    "    except CouldntCreateVisualException as e:\n",
    "        print(\"ERROR: couldnt create visual\")\n",
    "    print(url)\n",
    "#IPython.display.HTML(iframe)"
   ]
  }
 ],
 "metadata": {
  "kernelspec": {
   "display_name": "Python 3",
   "language": "python",
   "name": "python3"
  },
  "language_info": {
   "codemirror_mode": {
    "name": "ipython",
    "version": 3
   },
   "file_extension": ".py",
   "mimetype": "text/x-python",
   "name": "python",
   "nbconvert_exporter": "python",
   "pygments_lexer": "ipython3",
   "version": "3.6.1"
  }
 },
 "nbformat": 4,
 "nbformat_minor": 2
}
