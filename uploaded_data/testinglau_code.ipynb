{
 "cells": [
  {
   "cell_type": "code",
   "execution_count": 7,
   "metadata": {},
   "outputs": [
    {
     "name": "stdout",
     "output_type": "stream",
     "text": [
      "userid: 10213970072671093\n",
      "url: http://data.ooe.gv.at/files/cms/Mediendateien/OGD/ogd_abtStat/OOE_Bev_Erwerbsstatus.csv\n",
      "it doesntexists\n",
      "59fc6b4c7e9158001c3cb3c9\n",
      "59fc6b4e34fcba00ce255571\n",
      "bla-act_stat_employed-8\n",
      "https://doh.23degrees.io/viz/bla-act_stat_employed-8\n"
     ]
    }
   ],
   "source": [
    "import IPython\n",
    "import reboting\n",
    "iframe='<div></div>'\n",
    "url='http://data.ooe.gv.at/files/cms/Mediendateien/OGD/ogd_abtStat/OOE_Bev_Geschl_Alt5J.csv'\n",
    "url='http://data.ooe.gv.at/files/cms/Mediendateien/OGD/ogd_abtStat/OOE_Bev_Erwerbsstatus.csv'\n",
    "name='bla'\n",
    "publisher='bla'\n",
    "portal='bla'\n",
    "user_id='10213970072671093'\n",
    "description='bla'\n",
    "if url == 'NOTDEFINED':\n",
    "  print(\"Wu Dataservice not reachable atm - Sorry\")\n",
    "else:\n",
    "  print(\"userid: \"+user_id)\n",
    "  print(\"url: \"+url)\n",
    "  data_desc = {\n",
    "        \"name\" : name,\n",
    "        \"description\" : description,\n",
    "        \"publisher\" : publisher,\n",
    "        \"portal\" : portal,\n",
    "        \"url\": url,\n",
    "        \"user_id\" : user_id\n",
    "  }\n",
    "  slug = reboting.checkforknowncsv(data_desc = data_desc)\n",
    "  url = 'https://doh.23degrees.io/viz/'+slug\n",
    "  iframe= '<iframe src=\"' + url + '\" allowfullscreen frameborder=\"0\" ></iframe>'\n",
    "  print(url)\n",
    "#IPython.display.HTML(iframe)"
   ]
  }
 ],
 "metadata": {
  "kernelspec": {
   "display_name": "Python 3",
   "language": "python",
   "name": "python3"
  },
  "language_info": {
   "codemirror_mode": {
    "name": "ipython",
    "version": 3
   },
   "file_extension": ".py",
   "mimetype": "text/x-python",
   "name": "python",
   "nbconvert_exporter": "python",
   "pygments_lexer": "ipython3",
   "version": "3.6.1"
  }
 },
 "nbformat": 4,
 "nbformat_minor": 2
}
