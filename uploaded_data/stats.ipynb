{
 "cells": [
  {
   "cell_type": "code",
   "execution_count": 9,
   "metadata": {},
   "outputs": [
    {
     "data": {
      "text/html": [
       "<h1>First Lines of the Dataset</h1>"
      ],
      "text/plain": [
       "<IPython.core.display.HTML object>"
      ]
     },
     "metadata": {},
     "output_type": "display_data"
    },
    {
     "data": {
      "text/html": [
       "<div>\n",
       "<table border=\"1\" class=\"dataframe\">\n",
       "  <thead>\n",
       "    <tr style=\"text-align: right;\">\n",
       "      <th></th>\n",
       "      <th>FORWARDSORTATIONAREA</th>\n",
       "      <th>ANIMALTYPE</th>\n",
       "      <th>BREED</th>\n",
       "      <th>COUNT</th>\n",
       "    </tr>\n",
       "  </thead>\n",
       "  <tbody>\n",
       "    <tr>\n",
       "      <th>0</th>\n",
       "      <td>T6A</td>\n",
       "      <td>Dog</td>\n",
       "      <td>SHEPHERD, ANATOLIAN</td>\n",
       "      <td>2</td>\n",
       "    </tr>\n",
       "    <tr>\n",
       "      <th>1</th>\n",
       "      <td>T6W</td>\n",
       "      <td>Dog</td>\n",
       "      <td>SHIH TZU</td>\n",
       "      <td>155</td>\n",
       "    </tr>\n",
       "    <tr>\n",
       "      <th>2</th>\n",
       "      <td>T6H</td>\n",
       "      <td>Dog</td>\n",
       "      <td>UNKNOWN</td>\n",
       "      <td>4</td>\n",
       "    </tr>\n",
       "    <tr>\n",
       "      <th>3</th>\n",
       "      <td>T6C</td>\n",
       "      <td>Dog</td>\n",
       "      <td>GERMAN SHEPHERD</td>\n",
       "      <td>129</td>\n",
       "    </tr>\n",
       "    <tr>\n",
       "      <th>4</th>\n",
       "      <td>T5A</td>\n",
       "      <td>Cat</td>\n",
       "      <td>DOMESTIC SHORT HAIR</td>\n",
       "      <td>987</td>\n",
       "    </tr>\n",
       "  </tbody>\n",
       "</table>\n",
       "</div>"
      ],
      "text/plain": [
       "  FORWARDSORTATIONAREA ANIMALTYPE                BREED  COUNT\n",
       "0                  T6A        Dog  SHEPHERD, ANATOLIAN      2\n",
       "1                  T6W        Dog             SHIH TZU    155\n",
       "2                  T6H        Dog              UNKNOWN      4\n",
       "3                  T6C        Dog      GERMAN SHEPHERD    129\n",
       "4                  T5A        Cat  DOMESTIC SHORT HAIR    987"
      ]
     },
     "metadata": {},
     "output_type": "display_data"
    },
    {
     "data": {
      "text/html": [
       "<h1>Some Indicators</h1>"
      ],
      "text/plain": [
       "<IPython.core.display.HTML object>"
      ]
     },
     "metadata": {},
     "output_type": "display_data"
    },
    {
     "data": {
      "text/html": [
       "<div>\n",
       "<table border=\"1\" class=\"dataframe\">\n",
       "  <thead>\n",
       "    <tr style=\"text-align: right;\">\n",
       "      <th></th>\n",
       "      <th>FORWARDSORTATIONAREA</th>\n",
       "      <th>ANIMALTYPE</th>\n",
       "      <th>BREED</th>\n",
       "      <th>COUNT</th>\n",
       "    </tr>\n",
       "  </thead>\n",
       "  <tbody>\n",
       "    <tr>\n",
       "      <th>count</th>\n",
       "      <td>5622</td>\n",
       "      <td>5626</td>\n",
       "      <td>5626</td>\n",
       "      <td>5,626.00</td>\n",
       "    </tr>\n",
       "    <tr>\n",
       "      <th>unique</th>\n",
       "      <td>39</td>\n",
       "      <td>3</td>\n",
       "      <td>293</td>\n",
       "      <td>nan</td>\n",
       "    </tr>\n",
       "    <tr>\n",
       "      <th>top</th>\n",
       "      <td>T6L</td>\n",
       "      <td>Dog</td>\n",
       "      <td>UNKNOWN</td>\n",
       "      <td>nan</td>\n",
       "    </tr>\n",
       "    <tr>\n",
       "      <th>freq</th>\n",
       "      <td>213</td>\n",
       "      <td>4604</td>\n",
       "      <td>61</td>\n",
       "      <td>nan</td>\n",
       "    </tr>\n",
       "    <tr>\n",
       "      <th>mean</th>\n",
       "      <td>NaN</td>\n",
       "      <td>NaN</td>\n",
       "      <td>NaN</td>\n",
       "      <td>17.08</td>\n",
       "    </tr>\n",
       "    <tr>\n",
       "      <th>std</th>\n",
       "      <td>NaN</td>\n",
       "      <td>NaN</td>\n",
       "      <td>NaN</td>\n",
       "      <td>61.48</td>\n",
       "    </tr>\n",
       "    <tr>\n",
       "      <th>min</th>\n",
       "      <td>NaN</td>\n",
       "      <td>NaN</td>\n",
       "      <td>NaN</td>\n",
       "      <td>1.00</td>\n",
       "    </tr>\n",
       "    <tr>\n",
       "      <th>25%</th>\n",
       "      <td>NaN</td>\n",
       "      <td>NaN</td>\n",
       "      <td>NaN</td>\n",
       "      <td>1.00</td>\n",
       "    </tr>\n",
       "    <tr>\n",
       "      <th>50%</th>\n",
       "      <td>NaN</td>\n",
       "      <td>NaN</td>\n",
       "      <td>NaN</td>\n",
       "      <td>4.00</td>\n",
       "    </tr>\n",
       "    <tr>\n",
       "      <th>75%</th>\n",
       "      <td>NaN</td>\n",
       "      <td>NaN</td>\n",
       "      <td>NaN</td>\n",
       "      <td>11.00</td>\n",
       "    </tr>\n",
       "    <tr>\n",
       "      <th>max</th>\n",
       "      <td>NaN</td>\n",
       "      <td>NaN</td>\n",
       "      <td>NaN</td>\n",
       "      <td>1,488.00</td>\n",
       "    </tr>\n",
       "  </tbody>\n",
       "</table>\n",
       "</div>"
      ],
      "text/plain": [
       "       FORWARDSORTATIONAREA ANIMALTYPE    BREED    COUNT\n",
       "count                  5622       5626     5626 5,626.00\n",
       "unique                   39          3      293      nan\n",
       "top                     T6L        Dog  UNKNOWN      nan\n",
       "freq                    213       4604       61      nan\n",
       "mean                    NaN        NaN      NaN    17.08\n",
       "std                     NaN        NaN      NaN    61.48\n",
       "min                     NaN        NaN      NaN     1.00\n",
       "25%                     NaN        NaN      NaN     1.00\n",
       "50%                     NaN        NaN      NaN     4.00\n",
       "75%                     NaN        NaN      NaN    11.00\n",
       "max                     NaN        NaN      NaN 1,488.00"
      ]
     },
     "metadata": {},
     "output_type": "display_data"
    }
   ],
   "source": [
    "import numpy as np\n",
    "import pandas as pd\n",
    "from IPython.display import Image, display\n",
    "from IPython.core.display import HTML\n",
    "try:\n",
    "    # Define the data to be used\n",
    "    df = pd.read_csv('http://data.edmonton.ca/api/views/bqmh-j34s/rows.csv?accessType=DOWNLOAD')\n",
    "    #remove special chars of column names\n",
    "    df.columns=df.columns.str.replace('#','')\n",
    "    df.columns=df.columns.str.replace('.','')\n",
    "    df.columns=df.columns.str.replace(':','')\n",
    "    df.columns=df.columns.str.replace('\"','')\n",
    "    df.columns=df.columns.str.replace(' ','')\n",
    "    pd.options.display.float_format = '{:,.2f}'.format\n",
    "    display(HTML('<h1>First Lines of the Dataset</h1>'))\n",
    "    display(df.head())   \n",
    "    display(HTML('<h1>Some Indicators</h1>'))\n",
    "    display(df.describe(include='all'))\n",
    "except Exception:\n",
    "    print(\"ups no csv file found under the url you provided\")"
   ]
  }
 ],
 "metadata": {
  "kernelspec": {
   "display_name": "Python 3",
   "language": "python",
   "name": "python3"
  },
  "language_info": {
   "codemirror_mode": {
    "name": "ipython",
    "version": 3
   },
   "file_extension": ".py",
   "mimetype": "text/x-python",
   "name": "python",
   "nbconvert_exporter": "python",
   "pygments_lexer": "ipython3",
   "version": "3.5.2"
  }
 },
 "nbformat": 4,
 "nbformat_minor": 2
}
