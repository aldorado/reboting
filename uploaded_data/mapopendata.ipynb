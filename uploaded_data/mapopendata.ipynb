{
 "cells": [
  {
   "cell_type": "markdown",
   "metadata": {},
   "source": [
    "Import Problems:\n",
    "\n",
    "* value of columns needs nice parsing\n",
    "* 2 header lines?\n",
    "* What about time ref values in columns and in rows\n",
    "* Grouping if disctrict code happens to be multiple times in it"
   ]
  },
  {
   "cell_type": "code",
   "execution_count": 3,
   "metadata": {},
   "outputs": [
    {
     "data": {
      "text/html": [
       "<div class=\"intrinsic-container\" style=\"position: relative; padding-bottom: 56.25%;height: 0; overflow: hidden; width: 100%;height: auto;\"><iframe src=\"https://doh.23degrees.io/viz/testing-oevp\" allowfullscreen style=\" position: absolute; top: 0; left: 0; width: 100%; height: 100%; \"></iframe></div>"
      ],
      "text/plain": [
       "<IPython.core.display.HTML object>"
      ]
     },
     "execution_count": 3,
     "metadata": {},
     "output_type": "execute_result"
    }
   ],
   "source": [
    "import requests\n",
    "import pandas as pd\n",
    "import json\n",
    "import os\n",
    "import IPython\n",
    "import random\n",
    "import csv\n",
    "import re\n",
    "import chardet\n",
    "import reboting\n",
    "#injected variables\n",
    "#url='http://www.wien.gv.at/statistik/ogd/vie_403.csv'\n",
    "url='http://www.wien.gv.at/politik/wahlen/ogd/bv051_99999999_9999_spr.csv'\n",
    "#url='http://service.stmk.gv.at/ogd/OGD_Data_ABT17/statistik/BEV_GESCHL/STMK_01012016_SEX.csv'\n",
    "name='testing'\n",
    "description='desc'\n",
    "publisher='bla'\n",
    "portal=\"https\"\n",
    "#data reading and preparation\n",
    "filename = reboting.readandcleancsv( url )\n",
    "#print(filename)\n",
    "df = pd.read_csv(filename,sep=';', thousands='.', decimal=',')\n",
    "#test if SUB_DISTRICT_CODE exists\n",
    "districtCode =\"\"\n",
    "if 'DISTRICT_CODE' in df.columns:\n",
    "    districtCode=\"DISTRICT_CODE\"\n",
    "if 'SUB_DISTRICT_CODE' in df.columns:\n",
    "    districtCode='SUB_DISTRICT_CODE'\n",
    "if 'LAU_CODE' in df.columns:\n",
    "    districtCode='LAU_CODE'\n",
    "df = df.drop_duplicates(subset=districtCode)\n",
    "df.columns=df.columns.str.replace('#','')\n",
    "df.columns=df.columns.str.replace('.','')\n",
    "df.columns=df.columns.str.replace(':','')\n",
    "df.columns=df.columns.str.replace('\"','')\n",
    "df.columns=df.columns.str.replace(' ','')\n",
    "numeric_columnlist = list(df._get_numeric_data().columns)\n",
    "#filter out empty column names\n",
    "string_columns=[item for item in list(df.columns) if item not in numeric_columnlist and item!='']\n",
    "numeric_columnlist=[item for item in numeric_columnlist if item!='' and item!='DISTRICT_CODE' and item!='SUB_DISTRICT_CODE' and item!='LAU_CODE']\n",
    "#last numeric field as entity field for know.\n",
    "valueField = random.choice(numeric_columnlist)\n",
    "entityField = string_columns[-1]\n",
    "data_dict = df.to_dict(orient='records')\n",
    "#delete temp file\n",
    "os.remove(filename)\n",
    "requestOBJ = {\n",
    "        \"data\" : data_dict,\n",
    "        \"meta\": {\n",
    "            \"name\": name + \" \"+valueField,\n",
    "            \"sourceOrganization\": publisher,\n",
    "            \"source\": publisher,\n",
    "            \"description\": description,\n",
    "            \"publisher_name\": publisher,\n",
    "            \"publisher_homepage\": portal,\n",
    "            \"publisher_contact\": \"EMAIL ADRESS OF PUBLISHER\",\n",
    "            \"publisher_tags\": [\"City of Vienna\", \"Demographie\", \"Population\"],\n",
    "            \"accessUrl\": \"/api/data/\",\n",
    "            \"accessFormat\": \"json\",\n",
    "            \"frequency\": \"INSERT EXPECTED DATA UPDATE CYCLE\",\n",
    "            \"license\": \"Creative Commons Namensnennung 3.0 Österreich\",\n",
    "            \"citation\": \"INSERT CITATION IF AVAILABLE\",\n",
    "            \"isoField\": districtCode,\n",
    "            \"entityField\": entityField,\n",
    "            \"timeField\": \"null\",\n",
    "            \"timeDimension\": \"false\",\n",
    "            \"timeUnit\": \"year\",\n",
    "            \"valueField\": valueField,\n",
    "            \"unit\": \"Value:\",\n",
    "            \"colors\": [\"#ffc971\", \"#ffb627\", \"#ff9505\", \"#e2711d\", \"#cc5803\"],\n",
    "            \"legendtitles\": [\"low\", \"med-low\", \"med\", \"med-high\", \"high\"],\n",
    "            \"tooltip\": [{\"label\": valueField, \"field\": \"data:\"+valueField }],\n",
    "            \"theme\": \"light\"\n",
    "        },\n",
    "        \"parameters\": {\n",
    "            \"source\": \"manual\",\n",
    "            \"provider\": \"reboting\",\n",
    "            \"layer\": \"choropleth\"\n",
    "        }\n",
    "    }\n",
    "#print(json.dumps(requestOBJ, indent=3, sort_keys=True))\n",
    "r = requests.post(\"http://52.166.116.205:2301/manual\", json=requestOBJ)\n",
    "url = 'https://doh.23degrees.io/viz/'+r.json()['slug']\n",
    "iframe= '<div class=\"intrinsic-container\" style=\"position: relative; padding-bottom: 56.25%;height: 0; overflow: hidden; width: 100%;height: auto;\"><iframe src=\"' + url + '\" allowfullscreen style=\" position: absolute; top: 0; left: 0; width: 100%; height: 100%; \"></iframe></div>'\n",
    "#iframe= '<div class=\"intrinsic-container\" style=\"position: relative; padding-bottom: 56.25%;height: 0; overflow: hidden; width: 100%;height: auto;\"><iframe src=\"' + url + '\" allowfullscreen style=\" position: absolute; top: 0; left: 0; width: 100%; height: 100%; \"></iframe></div>'\n",
    "#print(url)\n",
    "IPython.display.HTML(iframe)"
   ]
  },
  {
   "cell_type": "code",
   "execution_count": null,
   "metadata": {},
   "outputs": [],
   "source": []
  }
 ],
 "metadata": {
  "kernelspec": {
   "display_name": "Python 3",
   "language": "python",
   "name": "python3"
  },
  "language_info": {
   "codemirror_mode": {
    "name": "ipython",
    "version": 3
   },
   "file_extension": ".py",
   "mimetype": "text/x-python",
   "name": "python",
   "nbconvert_exporter": "python",
   "pygments_lexer": "ipython3",
   "version": "3.6.1"
  }
 },
 "nbformat": 4,
 "nbformat_minor": 2
}
