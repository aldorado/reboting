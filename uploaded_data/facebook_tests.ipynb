{
 "cells": [
  {
   "cell_type": "code",
   "execution_count": 20,
   "metadata": {},
   "outputs": [],
   "source": [
    "access_token =\"MYACCESSTOKEN\"\n",
    "page_ID=\"656677641103633\""
   ]
  },
  {
   "cell_type": "code",
   "execution_count": 26,
   "metadata": {},
   "outputs": [
    {
     "name": "stdout",
     "output_type": "stream",
     "text": [
      "{\n",
      "    \"data\": [\n",
      "        {\n",
      "            \"description\": \"Weekly: The number of impressions seen of any content associated with your Page. (Total Count)\",\n",
      "            \"id\": \"656677641103633/insights/page_impressions/week\",\n",
      "            \"name\": \"page_impressions\",\n",
      "            \"period\": \"week\",\n",
      "            \"title\": \"Weekly Total Impressions\",\n",
      "            \"values\": [\n",
      "                {\n",
      "                    \"end_time\": \"2017-07-17T07:00:00+0000\",\n",
      "                    \"value\": 0\n",
      "                },\n",
      "                {\n",
      "                    \"end_time\": \"2017-07-18T07:00:00+0000\",\n",
      "                    \"value\": 0\n",
      "                }\n",
      "            ]\n",
      "        }\n",
      "    ],\n",
      "    \"paging\": {\n",
      "        \"next\": \"https://graph.facebook.com/v2.9/656677641103633/insights?access_token=EAACpo7tiJiwBANsJ1CCbAVoCbjbp8n41aoYTCUXylH3pRn0wf7WBp7tIZC5HKqOdsB6PLL91huzXBlsW7gTZAndLFZBb1UDzQ80EZCtdj7ZCvrWeTZAsUuZArylSDjwVl1LIZAue3xVbDHecrBhIAOg7M1WozvrVYEq8LIJ2XEit630uGZBQ40oN903a2gGnO7xZC3xNINWQmvMQZDZD&metric=page_impressions&period=week&since=1500361200&until=1500534000\",\n",
      "        \"previous\": \"https://graph.facebook.com/v2.9/656677641103633/insights?access_token=EAACpo7tiJiwBANsJ1CCbAVoCbjbp8n41aoYTCUXylH3pRn0wf7WBp7tIZC5HKqOdsB6PLL91huzXBlsW7gTZAndLFZBb1UDzQ80EZCtdj7ZCvrWeTZAsUuZArylSDjwVl1LIZAue3xVbDHecrBhIAOg7M1WozvrVYEq8LIJ2XEit630uGZBQ40oN903a2gGnO7xZC3xNINWQmvMQZDZD&metric=page_impressions&period=week&since=1500015600&until=1500188400\"\n",
      "    }\n",
      "}\n"
     ]
    }
   ],
   "source": [
    "import json\n",
    "import requests\n",
    "base='https://graph.facebook.com/v2.9'\n",
    "node='/'+ page_ID + '/insights/page_impressions'\n",
    "url=base+node\n",
    "parameters={'period':'week','access_token':access_token}\n",
    "object=requests.get(url,params=parameters).text.encode('utf-8')\n",
    "data=json.loads(object)\n",
    "print(json.dumps(data, indent=4, sort_keys=True))"
   ]
  },
  {
   "cell_type": "code",
   "execution_count": null,
   "metadata": {},
   "outputs": [],
   "source": [
    "import json\n",
    "import requests\n",
    "base='https://graph.facebook.com/v2.9'\n",
    "node='/'+ page_ID + '/insights'\n",
    "url=base+node\n",
    "parameters={'period':'week','access_token':access_token}\n",
    "object=requests.get(url,params=parameters).text.encode('utf-8')\n",
    "data=json.loads(object)\n",
    "print(json.dumps(data, indent=4, sort_keys=True))"
   ]
  },
  {
   "cell_type": "markdown",
   "metadata": {},
   "source": [
    "http://onlynoobspls.com/tag/facebook-graph-api-insights-metric/"
   ]
  }
 ],
 "metadata": {
  "kernelspec": {
   "display_name": "Python 3",
   "language": "python",
   "name": "python3"
  },
  "language_info": {
   "codemirror_mode": {
    "name": "ipython",
    "version": 3
   },
   "file_extension": ".py",
   "mimetype": "text/x-python",
   "name": "python",
   "nbconvert_exporter": "python",
   "pygments_lexer": "ipython3",
   "version": "3.6.1"
  }
 },
 "nbformat": 4,
 "nbformat_minor": 2
}
