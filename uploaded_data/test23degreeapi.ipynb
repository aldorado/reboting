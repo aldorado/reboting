{
 "cells": [
  {
   "cell_type": "code",
   "execution_count": 1,
   "metadata": {},
   "outputs": [],
   "source": [
    "import reboting\n",
    "url='http://www.wien.gv.at/statistik/ogd/vie_002.csv'\n",
    "url='http://www.wien.gv.at/politik/wahlen/ogd/bv051_99999999_9999_spr.csv'\n",
    "#url='http://service.stmk.gv.at/ogd/OGD_Data_ABT17/statistik/BEV_GESCHL/STMK_01012016_SEX.csv'\n",
    "name='testing'\n",
    "description='desc'\n",
    "publisher='bla'\n",
    "portal=\"https\"\n",
    "data_desc = {\n",
    "    \"name\" : name,\n",
    "    \"description\" : description,\n",
    "    \"publisher\" : publisher,\n",
    "    \"portal\" : portal,\n",
    "    \"url\": url,\n",
    "    \"user_id\" : \"pythonscript\"\n",
    "}"
   ]
  },
  {
   "cell_type": "code",
   "execution_count": 2,
   "metadata": {},
   "outputs": [
    {
     "name": "stdout",
     "output_type": "stream",
     "text": [
      "it doesntexists\n",
      "59a03b78a78d3200190d22db\n",
      "district code exists and random said map\n",
      "got a slug?\n",
      "testing-grue-1\n",
      "59a03b7ecd5b160304c8c4ba\n",
      "testing-grue-1\n"
     ]
    },
    {
     "data": {
      "text/html": [
       "<div class=\"intrinsic-container\" style=\"position: relative; padding-bottom: 56.25%;height: 0; overflow: hidden; width: 100%;height: auto;\"><iframe src=\"https://doh.23degrees.io/view/testing-grue-1\" allowfullscreen style=\" position: absolute; top: 0; left: 0; width: 100%; height: 100%; \"></iframe></div>"
      ],
      "text/plain": [
       "<IPython.core.display.HTML object>"
      ]
     },
     "execution_count": 2,
     "metadata": {},
     "output_type": "execute_result"
    }
   ],
   "source": [
    "import IPython\n",
    "slug = reboting.checkforknowncsv(data_desc = data_desc)\n",
    "print(slug)\n",
    "url = 'https://doh.23degrees.io/view/'+slug\n",
    "iframe= '<div class=\"intrinsic-container\" style=\"position: relative; padding-bottom: 56.25%;height: 0; overflow: hidden; width: 100%;height: auto;\"><iframe src=\"' + url + '\" allowfullscreen style=\" position: absolute; top: 0; left: 0; width: 100%; height: 100%; \"></iframe></div>'\n",
    "#print(url)\n",
    "IPython.display.HTML(iframe)"
   ]
  }
 ],
 "metadata": {
  "kernelspec": {
   "display_name": "Python 3",
   "language": "python",
   "name": "python3"
  },
  "language_info": {
   "codemirror_mode": {
    "name": "ipython",
    "version": 3
   },
   "file_extension": ".py",
   "mimetype": "text/x-python",
   "name": "python",
   "nbconvert_exporter": "python",
   "pygments_lexer": "ipython3",
   "version": "3.6.1"
  }
 },
 "nbformat": 4,
 "nbformat_minor": 2
}
